{
 "cells": [
  {
   "cell_type": "markdown",
   "id": "3aeda28a-b789-4d4b-a613-8338f4fa5520",
   "metadata": {},
   "source": [
    "# 인스타 데이터 수집_v1\n",
    "#### 가져와야 할 외부지표:  \n",
    "ID, 게시물 수, 팔로워 수, 팔로우 수 (프로필 정보 관련)  \n",
    "좋아요 수, 댓글 수, 게시글 내용, 댓글 내용 (각 게시물 정보 관련)"
   ]
  },
  {
   "cell_type": "markdown",
   "id": "a68a6ba1-e42d-4f8e-829c-407d3b4158b1",
   "metadata": {},
   "source": [
    "### 코드 실행 시 주의!!\n",
    "- 크롬 드라이버를 다운받고 이 코드 파일와 동일한 경로에 넣어 주세요.  \n",
    "- 이 코드 창의 브라우저 크기를 줄이고 코드 실행해야 잘 작동됩니다.  "
   ]
  },
  {
   "cell_type": "markdown",
   "id": "1de25f91-4391-4852-a970-6a1ecf883f0b",
   "metadata": {},
   "source": [
    "## 1. 세팅"
   ]
  },
  {
   "cell_type": "code",
   "execution_count": null,
   "id": "8457dec0-51d1-4db0-a83d-1ff1ec663a21",
   "metadata": {},
   "outputs": [],
   "source": [
    "# !pip install selenium\n",
    "# !pip install beautifulsoup4\n",
    "# !pip install webdriver_manager"
   ]
  },
  {
   "cell_type": "code",
   "execution_count": null,
   "id": "2afb3ad4-88e0-4f11-8801-245dd6a782f1",
   "metadata": {},
   "outputs": [],
   "source": [
    "from selenium import webdriver\n",
    "from bs4 import BeautifulSoup\n",
    "import requests\n",
    "import time\n",
    "from selenium.webdriver.common.by import By\n",
    "from selenium.webdriver.common.keys import Keys\n",
    "\n",
    "from selenium.webdriver.chrome.options import Options\n",
    "from selenium.webdriver.chrome.service import Service\n",
    "from webdriver_manager.chrome import ChromeDriverManager # 크롬 드라이버 자동 업데이트을 위한 모듈\n",
    "\n",
    "import urllib.request # 이미지 저장 라이브러리"
   ]
  },
  {
   "cell_type": "code",
   "execution_count": null,
   "id": "1d6eecc6-f965-4361-b04e-6a8cd3a115e7",
   "metadata": {},
   "outputs": [],
   "source": [
    "# 크롬 드라이버 옵션 관련 코드\n",
    "\n",
    "# 브라우저 꺼짐 방지 옵션\n",
    "options = Options()\n",
    "options.add_experimental_option(\"detach\", True)\n",
    "options.add_argument('window-size=1920x1080') # pc용 사이즈\n",
    "options.add_argument('--start-maximized')     # 브라우저가 최대화된 상태로 실행\n",
    "\n",
    "# 불필요한 에러 메시지 삭제\n",
    "options.add_experimental_option(\"excludeSwitches\", [\"enable-logging\"])\n",
    "\n",
    "# 크롬 드라이버 최신 버전 설정\n",
    "service = Service(executable_path=ChromeDriverManager().install())\n",
    "\n",
    "driver = webdriver.Chrome(service=service, options=options)"
   ]
  },
  {
   "cell_type": "markdown",
   "id": "a8f1b072-ed86-4ec8-8381-e31e7b917a38",
   "metadata": {},
   "source": [
    "driver 객체의 page_source 인스턴스 변수:  \n",
    "웹 서버로부터 전달받은 HTML 코드가 저장되어 있음.  \n",
    "\n",
    "1. selenium에서 page_source를 사용하여 해당 페이지의 소스, html을 가져오고 \n",
    "2. 가져온 html을 BeautifulSoup으로 넘겨줌.\n",
    "   \n",
    "이를 통해 페이지 이동 및 동작은 selenium으로 크롬 드라이버를 조작하여 할 수 있고,  \n",
    "원하는 페이지로 이동후 html을 BeatifulSoup으로 전달하여 원하는 웹 데이터를 가져와 사용할 수 있다."
   ]
  },
  {
   "cell_type": "code",
   "execution_count": null,
   "id": "7b7653f3-7859-421c-8eb5-1957143b69c2",
   "metadata": {},
   "outputs": [],
   "source": [
    "# 인스타그램 접속\n",
    "driver.get('https://instagram.com')\n",
    "\n",
    "# 인스타그램 자동 로그인\n",
    "driver.implicitly_wait(10) # 나타날 때까지 최대 10초동안 기다리기\n",
    "login_id = driver.find_element(By.CSS_SELECTOR, 'input[name=\"username\"]')\n",
    "login_id.send_keys('본인의 인스타 아이디 입력')\n",
    "driver.implicitly_wait(10)\n",
    "login_pwd = driver.find_element(By.CSS_SELECTOR, 'input[name=\"password\"]')\n",
    "driver.implicitly_wait(10)\n",
    "login_pwd.send_keys('본인의 인스타 비밀번호 입력')\n",
    "driver.implicitly_wait(10)\n",
    "login_id.send_keys(Keys.ENTER)\n",
    "time.sleep(3)"
   ]
  },
  {
   "cell_type": "code",
   "execution_count": null,
   "id": "9501acc5-b68c-40a3-a1ff-1074be4f6e7c",
   "metadata": {},
   "outputs": [],
   "source": [
    "# 샘플 url\n",
    "url = \"원하는 인플루언서의 주소 입력\""
   ]
  },
  {
   "cell_type": "markdown",
   "id": "b4ace999-5e4f-4ada-821b-2e7fd75564a9",
   "metadata": {},
   "source": [
    "## 2. 프로필 관련 정보: 팔로워, 팔로잉, 게시물 수, 닉네임, 자기소개\n",
    "- bs4로 html문서를 읽어 수집"
   ]
  },
  {
   "cell_type": "code",
   "execution_count": null,
   "id": "b008e5c6-cdbf-4599-8608-50fdb97e7a7f",
   "metadata": {},
   "outputs": [],
   "source": [
    "# 프로필 관련 정보 가져오기\n",
    "driver.get(url)           # 페이지 이동\n",
    "time.sleep(3)\n",
    "\n",
    "html = driver.page_source # html(페이지 소스) 가져오기\n",
    "soup = BeautifulSoup(html)"
   ]
  },
  {
   "cell_type": "code",
   "execution_count": null,
   "id": "4c832425-b120-407e-958e-3a195e06e6b0",
   "metadata": {},
   "outputs": [],
   "source": [
    "profile = soup.select(\"._ac2a > span\")\n",
    "profile\n",
    "# 각각 게시물 수, 팔로워 수, 팔로우 수 "
   ]
  },
  {
   "cell_type": "code",
   "execution_count": null,
   "id": "74b11375-67a5-4633-bc18-72c002259f23",
   "metadata": {},
   "outputs": [],
   "source": [
    "media_count = profile[0].text     # 게시물 수\n",
    "followers_count = profile[1].text # 팔로워 수\n",
    "follows_count = profile[2].text   # 팔로우 수 "
   ]
  },
  {
   "cell_type": "code",
   "execution_count": null,
   "id": "6f7c47b2-a232-4ecd-904b-c65c0506bc06",
   "metadata": {},
   "outputs": [],
   "source": [
    "print(media_count)\n",
    "print(followers_count)\n",
    "print(follows_count)"
   ]
  },
  {
   "cell_type": "code",
   "execution_count": null,
   "id": "5a93f696-9973-443a-836a-ba7992bb531c",
   "metadata": {},
   "outputs": [],
   "source": [
    "try: \n",
    "    nickname = soup.select_one(\"._aacy\").text     # 닉네임\n",
    "    print(nickname)\n",
    "except:\n",
    "    print(\"닉네임 없음\")"
   ]
  },
  {
   "cell_type": "code",
   "execution_count": null,
   "id": "1739f0b0-daf4-41e6-af91-28189bdb9640",
   "metadata": {},
   "outputs": [],
   "source": [
    "try: \n",
    "    introduction = soup.select_one(\"._aacx\").text # 자기소개\n",
    "    print(introduction)\n",
    "except:\n",
    "    print(\"자기소개 없음\")"
   ]
  },
  {
   "cell_type": "markdown",
   "id": "5afa400d-6856-4ccf-bc1b-0583d07f3367",
   "metadata": {},
   "source": [
    "## 3. 인스타그램 계정의 각 게시물의 대표 이미지와 좋아요 수\n",
    "-  셀레니움으로 게시물을 클릭해 이동하며 수집"
   ]
  },
  {
   "cell_type": "markdown",
   "id": "456d49af-3b04-4860-be8a-080f25bc72ac",
   "metadata": {},
   "source": [
    "#### 좋아요 개수 추출에서 생기는 문제:\n",
    "인플루언서가 좋아요 수를 공개하지 않으면 선택자 명과 태그 구조가 달라집니다.  \n",
    "최대한 타협안으로 좋아요 개수 전체 태그의 클래스 명을 사용했습니다.  \n",
    "그래서 좋아요 개수뿐만 아니라 글자도 같이 포함되는데 이는 파이썬 전처리로 해결해야 될 것 같습니다.  "
   ]
  },
  {
   "cell_type": "code",
   "execution_count": null,
   "id": "2a830475-7d59-416d-a79e-0bde15496072",
   "metadata": {
    "scrolled": true
   },
   "outputs": [],
   "source": [
    "# 인스타그램 계정의 각 게시물의 대표 이미지와 좋아요 수 가져오기\n",
    "\n",
    "# 첫번째 게시물 클릭\n",
    "driver.find_element(By.CSS_SELECTOR, '._aagu').click()\n",
    "driver.implicitly_wait(10)\n",
    "\n",
    "\n",
    "# 첫번째 게시물부터 데이터를 추출하고 다음 게시물을 클릭\n",
    "for i in range(5): # 이 숫자를 조절하면 원하는 게시물 수만큼 가져올 수 있음.\n",
    "    \n",
    "    # 예외처리로 일단 사진만 가져오게 하고 영상은 지나치도록 함.\n",
    "    try:\n",
    "        # 대표 이미지 가져오기\n",
    "        img_element = driver.find_element(By.CSS_SELECTOR, \"._aagu._aato img\").get_attribute(\"src\")\n",
    "        print(f'{i}번째 게시물 이미지: ' + img_element)\n",
    "\n",
    "        # 좋아요 수\n",
    "        like_element = driver.find_element(By.CSS_SELECTOR, \"._ae5m .x193iq5w.xeuugli\").text # 좋아요 수 영역\n",
    "        print(f'{i}번째 게시물 좋아요 수: ' + like_element)\n",
    "\n",
    "        driver.find_element(By.CSS_SELECTOR, '._aaqg._aaqh').click() # 다음 버튼 클릭\n",
    "        driver.implicitly_wait(2)\n",
    "\n",
    "    except:\n",
    "        # 영상은 지나치기 \n",
    "        print(f'{i}번째 게시물' + \"은 video입니다.\")\n",
    "        \n",
    "        # 좋아요 수\n",
    "        like_element = driver.find_element(By.CSS_SELECTOR, \"._ae5m .x193iq5w.xeuugli\").text\n",
    "        print(f'{i}번째 게시물 좋아요 수: ' + like_element)\n",
    "\n",
    "        driver.find_element(By.CSS_SELECTOR, '._aaqg._aaqh').click() # 다음 버튼 클릭\n",
    "        driver.implicitly_wait(2)\n",
    "\n",
    "    print()"
   ]
  },
  {
   "cell_type": "code",
   "execution_count": null,
   "id": "58b8c2d8-40db-4ae2-9484-2bd05a84556d",
   "metadata": {},
   "outputs": [],
   "source": [
    "# 참고\n",
    "# 좋아요 개수 공개했을 때 사용할 선택자 명: \"._ae5m .html-span\"\n",
    "# 좋아요 개수 공개하지 않을 때 사용할 선택자 명: \"._ae5m a:nth-child(2)\"\n",
    "# 이 코드에서는 \"._ae5m .x193iq5w.xeuugli\"를 사용했습니다."
   ]
  },
  {
   "cell_type": "code",
   "execution_count": null,
   "id": "48f6da55-0f72-4bfd-8ac1-39fe3c1a1202",
   "metadata": {},
   "outputs": [],
   "source": []
  }
 ],
 "metadata": {
  "kernelspec": {
   "display_name": "Python 3 (ipykernel)",
   "language": "python",
   "name": "python3"
  },
  "language_info": {
   "codemirror_mode": {
    "name": "ipython",
    "version": 3
   },
   "file_extension": ".py",
   "mimetype": "text/x-python",
   "name": "python",
   "nbconvert_exporter": "python",
   "pygments_lexer": "ipython3",
   "version": "3.11.4"
  }
 },
 "nbformat": 4,
 "nbformat_minor": 5
}
